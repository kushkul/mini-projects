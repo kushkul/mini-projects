{
 "cells": [
  {
   "cell_type": "markdown",
   "metadata": {},
   "source": [
    "## Classification of Cats Vs Dogs\n",
    "\n",
    "Data is downloaded from following Kaggle playground competition: https://www.kaggle.com/c/dogs-vs-cats\n",
    "\n",
    "\n"
   ]
  },
  {
   "cell_type": "code",
   "execution_count": 1,
   "metadata": {},
   "outputs": [],
   "source": [
    "#Importing relevant dependencies\n",
    "import os\n",
    "import zipfile\n",
    "import random\n",
    "import shutil\n",
    "import tensorflow as tf\n",
    "from tensorflow.keras.optimizers import RMSprop\n",
    "from tensorflow.keras.preprocessing.image import ImageDataGenerator\n",
    "from shutil import copyfile\n",
    "from os import getcwd"
   ]
  },
  {
   "cell_type": "code",
   "execution_count": 9,
   "metadata": {},
   "outputs": [],
   "source": [
    "#Unziping the dataset\n",
    "path_cats_and_dogs = \"C:\\\\Users\\ku.kulshrestha\\Downloads\\cats-and-dogs.zip\"\n",
    "\n",
    "local_zip = path_cats_and_dogs\n",
    "zip_ref = zipfile.ZipFile(local_zip, 'r')\n",
    "zip_ref.extractall(r\"C:\\Users\\ku.kulshrestha\\Documents\\github repos\\mini-projects\\data\")\n",
    "zip_ref.close()"
   ]
  },
  {
   "cell_type": "code",
   "execution_count": 17,
   "metadata": {},
   "outputs": [
    {
     "name": "stdout",
     "output_type": "stream",
     "text": [
      "1500\n",
      "1500\n"
     ]
    }
   ],
   "source": [
    "print(len(os.listdir(r\"C:\\Users\\ku.kulshrestha\\Documents\\github repos\\mini-projects\\data\\PetImages\\Cat\")))\n",
    "print(len(os.listdir(r\"C:\\Users\\ku.kulshrestha\\Documents\\github repos\\mini-projects\\data\\PetImages\\Dog\")))\n"
   ]
  },
  {
   "cell_type": "code",
   "execution_count": 24,
   "metadata": {},
   "outputs": [],
   "source": [
    "#Creating training and validation directories\n",
    "try:\n",
    "    os.mkdir(r\"C:\\Users\\ku.kulshrestha\\Documents\\github repos\\mini-projects\\data\\cats-v-dogs\")\n",
    "    os.mkdir(r'C:\\Users\\ku.kulshrestha\\Documents\\github repos\\mini-projects\\data\\cats-v-dogs\\training')\n",
    "    os.mkdir(r'C:\\Users\\ku.kulshrestha\\Documents\\github repos\\mini-projects\\data\\cats-v-dogs\\training\\cats')\n",
    "    os.mkdir(r'C:\\Users\\ku.kulshrestha\\Documents\\github repos\\mini-projects\\data\\cats-v-dogs\\training\\dogs')\n",
    "\n",
    "    os.mkdir(r'C:\\Users\\ku.kulshrestha\\Documents\\github repos\\mini-projects\\data\\cats-v-dogs\\testing')\n",
    "    os.mkdir(r'C:\\Users\\ku.kulshrestha\\Documents\\github repos\\mini-projects\\data\\cats-v-dogs\\testing\\cats')\n",
    "    os.mkdir(r'C:\\Users\\ku.kulshrestha\\Documents\\github repos\\mini-projects\\data\\cats-v-dogs\\testing\\dogs')\n",
    "\n",
    "except OSError:\n",
    "    pass"
   ]
  },
  {
   "cell_type": "code",
   "execution_count": 28,
   "metadata": {},
   "outputs": [],
   "source": [
    "#Function to split data into training and test directories\n",
    "def split_data(SOURCE, TRAINING, TESTING, SPLIT_SIZE):\n",
    "    \"\"\" Splits data present in SOURCE into TESTING and TESTING depending on SPLIT_SIZE passed\n",
    "    \"\"\"\n",
    "    all_images = os.listdir(SOURCE)\n",
    "    usable_images = []\n",
    "    for image in all_images:\n",
    "        if os.path.getsize(os.path.join(SOURCE,image))>0:\n",
    "            usable_images.append(image)\n",
    "    \n",
    "    training_count = int(len(usable_images)*SPLIT_SIZE)\n",
    "    testing_count = len(usable_images) - training_count\n",
    "    \n",
    "    training_images = random.sample(usable_images, training_count)\n",
    "    testing_images = []\n",
    "    for image in usable_images:\n",
    "        if image not in training_images:\n",
    "            testing_images.append(image)\n",
    "    \n",
    "    for image in training_images:\n",
    "        copyfile(os.path.join(SOURCE,image), os.path.join(TRAINING,image))\n",
    "    for image in testing_images:\n",
    "        copyfile(os.path.join(SOURCE,image), os.path.join(TESTING,image))\n",
    "    return True\n",
    "\n"
   ]
  },
  {
   "cell_type": "code",
   "execution_count": 30,
   "metadata": {},
   "outputs": [
    {
     "data": {
      "text/plain": [
       "True"
      ]
     },
     "execution_count": 30,
     "metadata": {},
     "output_type": "execute_result"
    }
   ],
   "source": [
    "#Splitting the data into training and testing directories\n",
    "\n",
    "CAT_SOURCE_DIR = r\"C:\\Users\\ku.kulshrestha\\Documents\\github repos\\mini-projects\\data\\PetImages\\Cat\"\n",
    "TRAINING_CATS_DIR = r'C:\\Users\\ku.kulshrestha\\Documents\\github repos\\mini-projects\\data\\cats-v-dogs\\training\\cats'\n",
    "TESTING_CATS_DIR = r'C:\\Users\\ku.kulshrestha\\Documents\\github repos\\mini-projects\\data\\cats-v-dogs\\testing\\cats'\n",
    "DOG_SOURCE_DIR = r\"C:\\Users\\ku.kulshrestha\\Documents\\github repos\\mini-projects\\data\\PetImages\\Dog\"\n",
    "TRAINING_DOGS_DIR = r'C:\\Users\\ku.kulshrestha\\Documents\\github repos\\mini-projects\\data\\cats-v-dogs\\training\\dogs'\n",
    "TESTING_DOGS_DIR = r'C:\\Users\\ku.kulshrestha\\Documents\\github repos\\mini-projects\\data\\cats-v-dogs\\testing\\dogs'\n",
    "\n",
    "split_size = .9\n",
    "split_data(CAT_SOURCE_DIR, TRAINING_CATS_DIR, TESTING_CATS_DIR, split_size)\n",
    "split_data(DOG_SOURCE_DIR, TRAINING_DOGS_DIR, TESTING_DOGS_DIR, split_size)"
   ]
  },
  {
   "cell_type": "code",
   "execution_count": 32,
   "metadata": {},
   "outputs": [
    {
     "name": "stdout",
     "output_type": "stream",
     "text": [
      "1485\n",
      "1483\n",
      "285\n",
      "283\n"
     ]
    }
   ],
   "source": [
    "print(len(os.listdir(r'C:\\Users\\ku.kulshrestha\\Documents\\github repos\\mini-projects\\data\\cats-v-dogs\\training\\cats')))\n",
    "print(len(os.listdir(r'C:\\Users\\ku.kulshrestha\\Documents\\github repos\\mini-projects\\data\\cats-v-dogs\\training\\dogs')))\n",
    "print(len(os.listdir(r'C:\\Users\\ku.kulshrestha\\Documents\\github repos\\mini-projects\\data\\cats-v-dogs\\testing\\cats')))\n",
    "print(len(os.listdir(r'C:\\Users\\ku.kulshrestha\\Documents\\github repos\\mini-projects\\data\\cats-v-dogs\\testing\\dogs')))"
   ]
  },
  {
   "cell_type": "code",
   "execution_count": 33,
   "metadata": {},
   "outputs": [],
   "source": [
    "#Defining a simple Keras CNN containing 3 convolution layers:\n",
    "\n",
    "model = tf.keras.models.Sequential([\n",
    "    tf.keras.layers.Conv2D(16, (3,3), activation='relu', input_shape=(150,150,3)),\n",
    "    tf.keras.layers.MaxPool2D(2,2),\n",
    "    tf.keras.layers.Conv2D(32, (3,3), activation='relu'),\n",
    "    tf.keras.layers.MaxPool2D(2,2),\n",
    "    tf.keras.layers.Conv2D(64, (3,3), activation='relu'),\n",
    "    tf.keras.layers.MaxPool2D(2,2),\n",
    "    tf.keras.layers.Conv2D(64, (3,3), activation='relu'),\n",
    "    tf.keras.layers.MaxPool2D(2,2),\n",
    "    tf.keras.layers.Flatten(),\n",
    "    tf.keras.layers.Dense(512, activation='relu'),\n",
    "    tf.keras.layers.Dense(1, activation='sigmoid')\n",
    "])\n",
    "\n",
    "model.compile(optimizer=RMSprop(lr=0.001), \n",
    "              loss='binary_crossentropy', \n",
    "              metrics=['acc'])"
   ]
  },
  {
   "cell_type": "code",
   "execution_count": 34,
   "metadata": {},
   "outputs": [
    {
     "name": "stdout",
     "output_type": "stream",
     "text": [
      "Model: \"sequential\"\n",
      "_________________________________________________________________\n",
      "Layer (type)                 Output Shape              Param #   \n",
      "=================================================================\n",
      "conv2d (Conv2D)              (None, 148, 148, 16)      448       \n",
      "_________________________________________________________________\n",
      "max_pooling2d (MaxPooling2D) (None, 74, 74, 16)        0         \n",
      "_________________________________________________________________\n",
      "conv2d_1 (Conv2D)            (None, 72, 72, 32)        4640      \n",
      "_________________________________________________________________\n",
      "max_pooling2d_1 (MaxPooling2 (None, 36, 36, 32)        0         \n",
      "_________________________________________________________________\n",
      "conv2d_2 (Conv2D)            (None, 34, 34, 64)        18496     \n",
      "_________________________________________________________________\n",
      "max_pooling2d_2 (MaxPooling2 (None, 17, 17, 64)        0         \n",
      "_________________________________________________________________\n",
      "conv2d_3 (Conv2D)            (None, 15, 15, 64)        36928     \n",
      "_________________________________________________________________\n",
      "max_pooling2d_3 (MaxPooling2 (None, 7, 7, 64)          0         \n",
      "_________________________________________________________________\n",
      "flatten (Flatten)            (None, 3136)              0         \n",
      "_________________________________________________________________\n",
      "dense (Dense)                (None, 512)               1606144   \n",
      "_________________________________________________________________\n",
      "dense_1 (Dense)              (None, 1)                 513       \n",
      "=================================================================\n",
      "Total params: 1,667,169\n",
      "Trainable params: 1,667,169\n",
      "Non-trainable params: 0\n",
      "_________________________________________________________________\n"
     ]
    }
   ],
   "source": [
    "model.summary()"
   ]
  },
  {
   "cell_type": "code",
   "execution_count": 35,
   "metadata": {},
   "outputs": [
    {
     "name": "stdout",
     "output_type": "stream",
     "text": [
      "Found 2968 images belonging to 2 classes.\n",
      "Found 568 images belonging to 2 classes.\n"
     ]
    }
   ],
   "source": [
    "#Initializing Training and validation Image data generators with augmentation parameters\n",
    "\n",
    "TRAINING_DIR = r'C:\\Users\\ku.kulshrestha\\Documents\\github repos\\mini-projects\\data\\cats-v-dogs\\training'\n",
    "train_datagen = ImageDataGenerator(rescale=1./255,\n",
    "                                  rotation_range=40,\n",
    "                                  width_shift_range=0.2,\n",
    "                                  height_shift_range=0.2,\n",
    "                                  shear_range=0.2,\n",
    "                                  zoom_range=0.2,\n",
    "                                  horizontal_flip=True,\n",
    "                                  fill_mode='nearest')\n",
    "\n",
    "#Loading the data from the directory\n",
    "train_generator = train_datagen.flow_from_directory(directory=TRAINING_DIR,\n",
    "                                                   target_size=(150,150),\n",
    "                                                   batch_size=10,\n",
    "                                                   class_mode='binary')\n",
    "\n",
    "VALIDATION_DIR = r'C:\\Users\\ku.kulshrestha\\Documents\\github repos\\mini-projects\\data\\cats-v-dogs\\testing'\n",
    "validation_datagen = ImageDataGenerator(rescale=1./255)\n",
    "\n",
    "#Loading validation data \n",
    "validation_generator = validation_datagen.flow_from_directory(directory=VALIDATION_DIR,\n",
    "                                                             target_size=(150,150),\n",
    "                                                             batch_size=10,\n",
    "                                                             class_mode='binary')\n"
   ]
  },
  {
   "cell_type": "code",
   "execution_count": 36,
   "metadata": {},
   "outputs": [
    {
     "name": "stdout",
     "output_type": "stream",
     "text": [
      "Epoch 1/10\n",
      "297/297 [==============================] - 120s 405ms/step - loss: 0.6933 - acc: 0.5428 - val_loss: 0.7513 - val_acc: 0.5352\n",
      "Epoch 2/10\n",
      "297/297 [==============================] - 110s 370ms/step - loss: 0.6695 - acc: 0.6203 - val_loss: 0.6098 - val_acc: 0.7042\n",
      "Epoch 3/10\n",
      "297/297 [==============================] - 110s 370ms/step - loss: 0.6493 - acc: 0.6260 - val_loss: 0.6337 - val_acc: 0.6320\n",
      "Epoch 4/10\n",
      "297/297 [==============================] - 112s 377ms/step - loss: 0.6439 - acc: 0.6533 - val_loss: 0.5795 - val_acc: 0.7025\n",
      "Epoch 5/10\n",
      "297/297 [==============================] - 111s 373ms/step - loss: 0.6195 - acc: 0.6600 - val_loss: 0.6084 - val_acc: 0.6602\n",
      "Epoch 6/10\n",
      "297/297 [==============================] - 111s 372ms/step - loss: 0.6138 - acc: 0.6755 - val_loss: 0.7020 - val_acc: 0.6232\n",
      "Epoch 7/10\n",
      "297/297 [==============================] - 110s 372ms/step - loss: 0.6175 - acc: 0.6698 - val_loss: 0.5699 - val_acc: 0.7165\n",
      "Epoch 8/10\n",
      "297/297 [==============================] - 112s 376ms/step - loss: 0.6034 - acc: 0.6826 - val_loss: 0.5353 - val_acc: 0.7465\n",
      "Epoch 9/10\n",
      "297/297 [==============================] - 111s 372ms/step - loss: 0.5919 - acc: 0.6951 - val_loss: 0.5552 - val_acc: 0.7007\n",
      "Epoch 10/10\n",
      "297/297 [==============================] - 111s 373ms/step - loss: 0.5876 - acc: 0.6931 - val_loss: 0.5821 - val_acc: 0.7254\n"
     ]
    }
   ],
   "source": [
    "#Training of the model\n",
    "\n",
    "#For starting, keeping the epochs to 10\n",
    "history = model.fit_generator(train_generator,\n",
    "                              epochs=10,\n",
    "                              verbose=1,\n",
    "                              validation_data=validation_generator)"
   ]
  },
  {
   "cell_type": "code",
   "execution_count": 37,
   "metadata": {},
   "outputs": [
    {
     "data": {
      "text/plain": [
       "Text(0.5, 1.0, 'Training and validation loss')"
      ]
     },
     "execution_count": 37,
     "metadata": {},
     "output_type": "execute_result"
    },
    {
     "data": {
      "image/png": "[encoded data removed]",
      "text/plain": [
       "<Figure size 432x288 with 1 Axes>"
      ]
     },
     "metadata": {
      "needs_background": "light"
     },
     "output_type": "display_data"
    },
    {
     "data": {
      "image/png": "[encoded data removed]",
      "text/plain": [
       "<Figure size 432x288 with 1 Axes>"
      ]
     },
     "metadata": {
      "needs_background": "light"
     },
     "output_type": "display_data"
    }
   ],
   "source": [
    "# PLOT LOSS AND ACCURACY\n",
    "%matplotlib inline\n",
    "\n",
    "import matplotlib.image  as mpimg\n",
    "import matplotlib.pyplot as plt\n",
    "\n",
    "#-----------------------------------------------------------\n",
    "# Retrieve a list of list results on training and test data\n",
    "# sets for each training epoch\n",
    "#-----------------------------------------------------------\n",
    "acc=history.history['acc']\n",
    "val_acc=history.history['val_acc']\n",
    "loss=history.history['loss']\n",
    "val_loss=history.history['val_loss']\n",
    "\n",
    "epochs=range(len(acc)) # Get number of epochs\n",
    "\n",
    "#------------------------------------------------\n",
    "# Plot training and validation accuracy per epoch\n",
    "#------------------------------------------------\n",
    "plt.plot(epochs, acc, 'r', \"Training Accuracy\")\n",
    "plt.plot(epochs, val_acc, 'b', \"Validation Accuracy\")\n",
    "plt.title('Training and validation accuracy')\n",
    "plt.figure()\n",
    "\n",
    "#------------------------------------------------\n",
    "# Plot training and validation loss per epoch\n",
    "#------------------------------------------------\n",
    "plt.plot(epochs, loss, 'r', \"Training Loss\")\n",
    "plt.plot(epochs, val_loss, 'b', \"Validation Loss\")\n",
    "\n",
    "\n",
    "plt.title('Training and validation loss')\n"
   ]
  },
  {
   "cell_type": "code",
   "execution_count": null,
   "metadata": {},
   "outputs": [],
   "source": []
  },
  {
   "cell_type": "code",
   "execution_count": null,
   "metadata": {},
   "outputs": [],
   "source": []
  },
  {
   "cell_type": "code",
   "execution_count": null,
   "metadata": {},
   "outputs": [],
   "source": []
  }
 ],
 "metadata": {
  "kernelspec": {
   "display_name": "Python 3",
   "language": "python",
   "name": "python3"
  },
  "language_info": {
   "codemirror_mode": {
    "name": "ipython",
    "version": 3
   },
   "file_extension": ".py",
   "mimetype": "text/x-python",
   "name": "python",
   "nbconvert_exporter": "python",
   "pygments_lexer": "ipython3",
   "version": "3.6.10"
  }
 },
 "nbformat": 4,
 "nbformat_minor": 4
}
